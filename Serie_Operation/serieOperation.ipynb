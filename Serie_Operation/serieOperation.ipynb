{
 "cells": [
  {
   "cell_type": "code",
   "execution_count": 4,
   "id": "e9016c03-7662-4e0c-8d1e-f21c7ebeb505",
   "metadata": {},
   "outputs": [
    {
     "data": {
      "text/html": [
       "<div>\n",
       "<style scoped>\n",
       "    .dataframe tbody tr th:only-of-type {\n",
       "        vertical-align: middle;\n",
       "    }\n",
       "\n",
       "    .dataframe tbody tr th {\n",
       "        vertical-align: top;\n",
       "    }\n",
       "\n",
       "    .dataframe thead th {\n",
       "        text-align: right;\n",
       "    }\n",
       "</style>\n",
       "<table border=\"1\" class=\"dataframe\">\n",
       "  <thead>\n",
       "    <tr style=\"text-align: right;\">\n",
       "      <th></th>\n",
       "      <th>name</th>\n",
       "      <th>tech</th>\n",
       "    </tr>\n",
       "  </thead>\n",
       "  <tbody>\n",
       "    <tr>\n",
       "      <th>0</th>\n",
       "      <td>Beni samuel</td>\n",
       "      <td>Full Stack | Mobile Developer | Data Scientist...</td>\n",
       "    </tr>\n",
       "    <tr>\n",
       "      <th>1</th>\n",
       "      <td>Laurent</td>\n",
       "      <td>Mobile Developer | Web Developer</td>\n",
       "    </tr>\n",
       "    <tr>\n",
       "      <th>2</th>\n",
       "      <td>Wigo</td>\n",
       "      <td>FullStack Web Developer | OS Explorer</td>\n",
       "    </tr>\n",
       "    <tr>\n",
       "      <th>3</th>\n",
       "      <td>Cristian</td>\n",
       "      <td>Software Engineer</td>\n",
       "    </tr>\n",
       "  </tbody>\n",
       "</table>\n",
       "</div>"
      ],
      "text/plain": [
       "          name                                               tech\n",
       "0  Beni samuel  Full Stack | Mobile Developer | Data Scientist...\n",
       "1      Laurent                  Mobile Developer | Web Developer \n",
       "2         Wigo             FullStack Web Developer | OS Explorer \n",
       "3     Cristian                                  Software Engineer"
      ]
     },
     "execution_count": 4,
     "metadata": {},
     "output_type": "execute_result"
    }
   ],
   "source": [
    "import pandas as pd\n",
    "\n",
    "studentDataFrame = pd.read_csv(\"../Creating_DataFrame/sample_two.csv\")\n",
    "studentDataFrame"
   ]
  },
  {
   "cell_type": "code",
   "execution_count": 6,
   "id": "1c3a0914-c4f3-4a46-9a47-ceef04854560",
   "metadata": {},
   "outputs": [
    {
     "data": {
      "text/plain": [
       "0    Full Stack | Mobile Developer | Data Scientist...\n",
       "1                    Mobile Developer | Web Developer \n",
       "2               FullStack Web Developer | OS Explorer \n",
       "3                                    Software Engineer\n",
       "Name: tech, dtype: object"
      ]
     },
     "execution_count": 6,
     "metadata": {},
     "output_type": "execute_result"
    }
   ],
   "source": [
    "studentDataFrame[\"tech\"] # working with the single column of the serie"
   ]
  },
  {
   "cell_type": "code",
   "execution_count": null,
   "id": "befe6f1e-03ac-4d98-9e86-9073a8b93cff",
   "metadata": {},
   "outputs": [],
   "source": []
  },
  {
   "cell_type": "code",
   "execution_count": 8,
   "id": "1e37bf58-7db5-447d-9fc3-de41207091ab",
   "metadata": {},
   "outputs": [
    {
     "data": {
      "text/plain": [
       "'Wigo'"
      ]
     },
     "execution_count": 8,
     "metadata": {},
     "output_type": "execute_result"
    }
   ],
   "source": [
    "studentDataFrame[\"name\"].max() #finding the maximum in the name column"
   ]
  },
  {
   "cell_type": "code",
   "execution_count": 10,
   "id": "8dd67496-4ca1-42d0-b67f-c4453decc41b",
   "metadata": {},
   "outputs": [
    {
     "data": {
      "text/plain": [
       "'Software Engineer'"
      ]
     },
     "execution_count": 10,
     "metadata": {},
     "output_type": "execute_result"
    }
   ],
   "source": [
    "studentDataFrame[\"tech\"].max()"
   ]
  },
  {
   "cell_type": "code",
   "execution_count": 12,
   "id": "04991cc7-9f74-4279-9c6c-852e52ebdb62",
   "metadata": {},
   "outputs": [
    {
     "data": {
      "text/plain": [
       "<bound method NDFrame.describe of           name                                               tech\n",
       "0  Beni samuel  Full Stack | Mobile Developer | Data Scientist...\n",
       "1      Laurent                  Mobile Developer | Web Developer \n",
       "2         Wigo             FullStack Web Developer | OS Explorer \n",
       "3     Cristian                                  Software Engineer>"
      ]
     },
     "execution_count": 12,
     "metadata": {},
     "output_type": "execute_result"
    }
   ],
   "source": [
    "studentDataFrame.describe"
   ]
  },
  {
   "cell_type": "code",
   "execution_count": 14,
   "id": "bd6685d9-d6c5-4d23-99f9-69836628050f",
   "metadata": {},
   "outputs": [
    {
     "data": {
      "text/html": [
       "<div>\n",
       "<style scoped>\n",
       "    .dataframe tbody tr th:only-of-type {\n",
       "        vertical-align: middle;\n",
       "    }\n",
       "\n",
       "    .dataframe tbody tr th {\n",
       "        vertical-align: top;\n",
       "    }\n",
       "\n",
       "    .dataframe thead th {\n",
       "        text-align: right;\n",
       "    }\n",
       "</style>\n",
       "<table border=\"1\" class=\"dataframe\">\n",
       "  <thead>\n",
       "    <tr style=\"text-align: right;\">\n",
       "      <th></th>\n",
       "      <th>name</th>\n",
       "      <th>tech</th>\n",
       "    </tr>\n",
       "  </thead>\n",
       "  <tbody>\n",
       "    <tr>\n",
       "      <th>count</th>\n",
       "      <td>4</td>\n",
       "      <td>4</td>\n",
       "    </tr>\n",
       "    <tr>\n",
       "      <th>unique</th>\n",
       "      <td>4</td>\n",
       "      <td>4</td>\n",
       "    </tr>\n",
       "    <tr>\n",
       "      <th>top</th>\n",
       "      <td>Beni samuel</td>\n",
       "      <td>Full Stack | Mobile Developer | Data Scientist...</td>\n",
       "    </tr>\n",
       "    <tr>\n",
       "      <th>freq</th>\n",
       "      <td>1</td>\n",
       "      <td>1</td>\n",
       "    </tr>\n",
       "  </tbody>\n",
       "</table>\n",
       "</div>"
      ],
      "text/plain": [
       "               name                                               tech\n",
       "count             4                                                  4\n",
       "unique            4                                                  4\n",
       "top     Beni samuel  Full Stack | Mobile Developer | Data Scientist...\n",
       "freq              1                                                  1"
      ]
     },
     "execution_count": 14,
     "metadata": {},
     "output_type": "execute_result"
    }
   ],
   "source": [
    "studentDataFrame.describe()"
   ]
  },
  {
   "cell_type": "code",
   "execution_count": null,
   "id": "d3c2ea99-58de-4ac7-ae77-fb424b9d0c1a",
   "metadata": {},
   "outputs": [],
   "source": []
  }
 ],
 "metadata": {
  "kernelspec": {
   "display_name": "Python 3 (ipykernel)",
   "language": "python",
   "name": "python3"
  },
  "language_info": {
   "codemirror_mode": {
    "name": "ipython",
    "version": 3
   },
   "file_extension": ".py",
   "mimetype": "text/x-python",
   "name": "python",
   "nbconvert_exporter": "python",
   "pygments_lexer": "ipython3",
   "version": "3.12.4"
  }
 },
 "nbformat": 4,
 "nbformat_minor": 5
}
